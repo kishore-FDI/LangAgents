{
  "nbformat": 4,
  "nbformat_minor": 0,
  "metadata": {
    "colab": {
      "provenance": []
    },
    "kernelspec": {
      "name": "python3",
      "display_name": "Python 3"
    },
    "language_info": {
      "name": "python"
    }
  },
  "cells": [
    {
      "cell_type": "code",
      "execution_count": 50,
      "metadata": {
        "id": "11jKW3CJEICf"
      },
      "outputs": [],
      "source": [
        "!pip install -q crewai langchain langchain_google-genai langchain_community langchain_core langchain_mistralai duckduckgo-search wikipedia langchain_experimental arxiv faiss-cpu langchainhub"
      ]
    },
    {
      "cell_type": "code",
      "source": [
        "from crewai import Agent , Task , Crew , Process\n",
        "import getpass\n",
        "import os\n",
        "from langchain_google_genai import ChatGoogleGenerativeAI\n",
        "from langchain_experimental.tools import PythonREPLTool\n",
        "from langchain.tools import DuckDuckGoSearchRun ,WikipediaQueryRun\n",
        "from langchain.agents import Tool\n",
        "from langchain_experimental.utilities import PythonREPL\n",
        "from langchain_community.utilities import WikipediaAPIWrapper\n",
        "import subprocess\n",
        "import duckduckgo_search\n",
        "import pprint\n",
        "from langchain.retrievers import ArxivRetriever\n",
        "from langchain_community.document_loaders import TextLoader"
      ],
      "metadata": {
        "id": "lGvlc2RcERwO"
      },
      "execution_count": 75,
      "outputs": []
    },
    {
      "cell_type": "code",
      "source": [
        "import getpass\n",
        "import os\n",
        "\n",
        "if \"GOOGLE_API_KEY\" not in os.environ:\n",
        "    os.environ[\"GOOGLE_API_KEY\"] = getpass.getpass(\"Provide your Google API Key\")"
      ],
      "metadata": {
        "id": "eTaZhkJTlEhd"
      },
      "execution_count": 76,
      "outputs": []
    },
    {
      "cell_type": "code",
      "source": [
        "from langchain.pydantic_v1 import BaseModel, Field\n",
        "from langchain.tools import BaseTool, StructuredTool, tool\n",
        "@tool\n",
        "def random(a):\n",
        "    \"\"\"Look up things online.\"\"\"\n",
        "    return \"LangChain\"\n",
        "random_tool= Tool(\n",
        "    name=\"random\",\n",
        "    description=\"Use must use this function whenever you are asked to print something random\",\n",
        "    func=random,\n",
        ")"
      ],
      "metadata": {
        "id": "xxJ-c3TH81i5"
      },
      "execution_count": 77,
      "outputs": []
    },
    {
      "cell_type": "code",
      "source": [
        "# wiki_tool=WikipediaQueryRun()\n",
        "py_tool=PythonREPLTool()\n",
        "search_tool=DuckDuckGoSearchRun()\n",
        "# retriever = ArxivRetriever(load_max_docs=2)\n",
        "# docs = retriever.get_relevant_documents(query=\"1605.08386\")\n",
        "loader = TextLoader(\"/content/untitled.txt\")\n",
        "documents = loader.load()\n",
        "from langchain.text_splitter import CharacterTextSplitter\n",
        "from langchain_community.vectorstores import FAISS\n",
        "from langchain_google_genai import GoogleGenerativeAIEmbeddings\n",
        "\n",
        "text_splitter = CharacterTextSplitter(chunk_size=1000, chunk_overlap=0)\n",
        "texts = text_splitter.split_documents(documents)\n",
        "embeddings = GoogleGenerativeAIEmbeddings(model=\"models/embedding-001\")\n",
        "db = FAISS.from_documents(texts, embeddings)\n",
        "retriever = db.as_retriever()\n",
        "from langchain.tools.retriever import create_retriever_tool\n",
        "\n",
        "retriever_tool = create_retriever_tool(\n",
        "    retriever,\n",
        "    \"langchain_agents\",\n",
        "    \"Searches and returns data about langchain agents.\",\n",
        ")\n",
        "tools = [retriever_tool,py_tool,search_tool,random_tool]"
      ],
      "metadata": {
        "id": "fmcQRoal4rdP"
      },
      "execution_count": 78,
      "outputs": []
    },
    {
      "cell_type": "code",
      "source": [
        "from langchain import hub\n",
        "\n",
        "prompt = hub.pull(\"hwchase17/react\")"
      ],
      "metadata": {
        "id": "0F4TEzsuotQe"
      },
      "execution_count": 79,
      "outputs": []
    },
    {
      "cell_type": "code",
      "source": [
        "model=ChatGoogleGenerativeAI(model=\"gemini-pro\", convert_system_message_to_human=True)"
      ],
      "metadata": {
        "id": "_uP4BRnYzG8g"
      },
      "execution_count": 80,
      "outputs": []
    },
    {
      "cell_type": "code",
      "source": [
        "from langchain.agents import AgentExecutor, create_openai_tools_agent , initialize_agent ,create_react_agent\n",
        "agent = create_react_agent(model, tools, prompt)"
      ],
      "metadata": {
        "id": "JKaOtRv4zOsk"
      },
      "execution_count": 81,
      "outputs": []
    },
    {
      "cell_type": "code",
      "source": [
        "# Create an agent executor by passing in the agent and tools\n",
        "agent_executor = AgentExecutor(agent=agent, tools=tools, verbose=True,max_iterations=3,early_stopping_method='generate',)"
      ],
      "metadata": {
        "id": "yHZv58OFzcdR"
      },
      "execution_count": 82,
      "outputs": []
    },
    {
      "cell_type": "code",
      "source": [
        "print(agent_executor.invoke(\n",
        "    {\n",
        "        \"input\": \"print something random\"\n",
        "    }\n",
        "))"
      ],
      "metadata": {
        "colab": {
          "base_uri": "https://localhost:8080/"
        },
        "id": "LBIZiyFHzd9t",
        "outputId": "80fdb9b0-2939-4fba-9a89-ca3b0f8a4c05"
      },
      "execution_count": 86,
      "outputs": [
        {
          "output_type": "stream",
          "name": "stdout",
          "text": [
            "\n",
            "\n",
            "\u001b[1m> Entering new AgentExecutor chain...\u001b[0m\n",
            "\u001b[32;1m\u001b[1;3mI should just call the random module to print a random value\n",
            "Action: random\n",
            "Action Input: random.randint(1, 100)\u001b[0m\u001b[36;1m\u001b[1;3mLangChain\u001b[0m\u001b[32;1m\u001b[1;3mthe final answer should be LangChain\n",
            "Final Answer: LangChain\u001b[0m\n",
            "\n",
            "\u001b[1m> Finished chain.\u001b[0m\n",
            "{'input': 'print something random', 'output': 'LangChain'}\n"
          ]
        }
      ]
    }
  ]
}